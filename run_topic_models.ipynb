{
 "cells": [
  {
   "cell_type": "code",
   "execution_count": 1,
   "metadata": {},
   "outputs": [],
   "source": [
    "# Load some libraries for reading the data from the database and plotting \n",
    "\n",
    "import django\n",
    "import sys, os\n",
    "import pandas as pd\n",
    "import matplotlib.pyplot as plt\n",
    "\n",
    "sys.path.append('/home/galm/software/django/tmv/BasicBrowser/')\n",
    "os.environ.setdefault(\"DJANGO_SETTINGS_MODULE\", \"BasicBrowser.settings\")\n",
    "django.setup()\n",
    "\n",
    "from scoping.models import *\n",
    "from tmv_app.tasks import *\n",
    "\n",
    "from django.db.models import Count, Sum\n",
    "\n",
    "p = Project.objects.get(pk=147)\n",
    "qid = 6299\n"
   ]
  },
  {
   "cell_type": "code",
   "execution_count": 2,
   "metadata": {},
   "outputs": [],
   "source": [
    "\n",
    "for qid in [6299,6305,6306]:\n",
    "    q = Query.objects.get(pk=qid)\n",
    "    for method in [\"NM\",\"LD\"]:\n",
    "        for K in [20,30,40,50,60,70]:\n",
    "            for alpha in [0.05,0.1]:\n",
    "                if method==\"LD\":\n",
    "                    alpha = alpha*10  \n",
    "                model, created = RunStats.objects.get_or_create(\n",
    "                    method=method,\n",
    "                    min_freq=10,\n",
    "                    fancy_tokenization=True,\n",
    "                    K=K,\n",
    "                    alpha=alpha,\n",
    "                    query=q,\n",
    "                )\n",
    "                if created or model.status==0:\n",
    "                    do_nmf.delay(model.pk)"
   ]
  }
 ],
 "metadata": {
  "kernelspec": {
   "display_name": "tmv",
   "language": "python",
   "name": "tmv"
  },
  "varInspector": {
   "cols": {
    "lenName": 16,
    "lenType": 16,
    "lenVar": 40
   },
   "kernels_config": {
    "python": {
     "delete_cmd_postfix": "",
     "delete_cmd_prefix": "del ",
     "library": "var_list.py",
     "varRefreshCmd": "print(var_dic_list())"
    },
    "r": {
     "delete_cmd_postfix": ") ",
     "delete_cmd_prefix": "rm(",
     "library": "var_list.r",
     "varRefreshCmd": "cat(var_dic_list()) "
    }
   },
   "types_to_exclude": [
    "module",
    "function",
    "builtin_function_or_method",
    "instance",
    "_Feature"
   ],
   "window_display": false
  }
 },
 "nbformat": 4,
 "nbformat_minor": 2
}
