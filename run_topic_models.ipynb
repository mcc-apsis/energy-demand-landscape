{
 "cells": [
  {
   "cell_type": "code",
   "execution_count": null,
   "metadata": {},
   "outputs": [],
   "source": [
    "# Load some libraries for reading the data from the database and plotting \n",
    "\n",
    "import django\n",
    "import sys, os\n",
    "import pandas as pd\n",
    "import matplotlib.pyplot as plt\n",
    "\n",
    "sys.path.append('/home/galm/software/django/tmv/BasicBrowser/')\n",
    "os.environ.setdefault(\"DJANGO_SETTINGS_MODULE\", \"BasicBrowser.settings\")\n",
    "django.setup()\n",
    "\n",
    "from scoping.models import *\n",
    "from scoping.tasks import *\n",
    "from tmv_app.tasks import *\n",
    "\n",
    "from django.db.models import Count, Sum\n",
    "\n",
    "pids = [148, 182, 147, 186]\n",
    "\n",
    "queries = Query.objects.filter(\n",
    "    text=\"[GENERATED TYPE 1]\",\n",
    "    project__in=pids\n",
    ")\n",
    "\n",
    "all_docs = set([])\n",
    "\n",
    "for q in queries.order_by('project_id'):\n",
    "    print(f\"\\n{q.title}\")\n",
    "    print(q.r_count)\n",
    "    q.doc_set.clear()\n",
    "    if q.project.id == 186:\n",
    "        print(\"assigning all docs\")\n",
    "        docs = all_docs\n",
    "    else:\n",
    "        docs = set(Doc.objects.filter(query__project=q.project).values_list('pk',flat=True))\n",
    "        all_docs = all_docs | docs\n",
    "    Through = Doc.query.through\n",
    "    dqs = [Through(doc_id=d,query=q) for d in docs]\n",
    "    Through.objects.bulk_create(dqs)\n",
    "    q.r_count = q.doc_set.count()\n",
    "    q.save()\n",
    "    print(q.r_count)\n",
    "\n",
    "queries\n"
   ]
  },
  {
   "cell_type": "code",
   "execution_count": null,
   "metadata": {},
   "outputs": [],
   "source": [
    "RunStats.objects.filter(query__in=queries).delete()"
   ]
  },
  {
   "cell_type": "code",
   "execution_count": null,
   "metadata": {},
   "outputs": [],
   "source": [
    "\n",
    "for method in [\"NM\",\"LD\"]:\n",
    "    for K in [20,40,60,80, 100, 120, 140 ]:\n",
    "        for q in queries.order_by('r_count'):\n",
    "            for alpha in [0.05,0.1]:\n",
    "                if method==\"LD\":\n",
    "                    alpha = alpha*10  \n",
    "                model, created = RunStats.objects.get_or_create(\n",
    "                    method=method,\n",
    "                    min_freq=10,\n",
    "                    fancy_tokenization=True,\n",
    "                    K=K,\n",
    "                    alpha=alpha,\n",
    "                    query=q,\n",
    "                )\n",
    "                if created or model.status < 3:\n",
    "                    do_nmf(model.pk)"
   ]
  },
  {
   "cell_type": "code",
   "execution_count": null,
   "metadata": {},
   "outputs": [],
   "source": []
  }
 ],
 "metadata": {
  "kernelspec": {
   "display_name": "tmv",
   "language": "python",
   "name": "tmv"
  },
  "language_info": {
   "codemirror_mode": {
    "name": "ipython",
    "version": 3
   },
   "file_extension": ".py",
   "mimetype": "text/x-python",
   "name": "python",
   "nbconvert_exporter": "python",
   "pygments_lexer": "ipython3",
   "version": "3.6.7"
  },
  "varInspector": {
   "cols": {
    "lenName": 16,
    "lenType": 16,
    "lenVar": 40
   },
   "kernels_config": {
    "python": {
     "delete_cmd_postfix": "",
     "delete_cmd_prefix": "del ",
     "library": "var_list.py",
     "varRefreshCmd": "print(var_dic_list())"
    },
    "r": {
     "delete_cmd_postfix": ") ",
     "delete_cmd_prefix": "rm(",
     "library": "var_list.r",
     "varRefreshCmd": "cat(var_dic_list()) "
    }
   },
   "types_to_exclude": [
    "module",
    "function",
    "builtin_function_or_method",
    "instance",
    "_Feature"
   ],
   "window_display": false
  }
 },
 "nbformat": 4,
 "nbformat_minor": 2
}
