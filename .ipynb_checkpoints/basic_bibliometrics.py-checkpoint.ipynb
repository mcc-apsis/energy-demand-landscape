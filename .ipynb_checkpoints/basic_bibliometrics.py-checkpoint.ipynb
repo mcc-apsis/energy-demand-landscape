{
 "cells": [
  {
   "cell_type": "code",
   "execution_count": 1,
   "metadata": {},
   "outputs": [],
   "source": [
    "# Load some libraries for reading the data from the database and plotting \n",
    "\n",
    "import django\n",
    "import sys, os\n",
    "import pandas as pd\n",
    "import matplotlib.pyplot as plt\n",
    "\n",
    "sys.path.append('/home/galm/software/django/tmv/BasicBrowser/')\n",
    "os.environ.setdefault(\"DJANGO_SETTINGS_MODULE\", \"BasicBrowser.settings\")\n",
    "django.setup()\n",
    "\n",
    "from scoping.models import *\n",
    "from tmv_app.tasks import *\n",
    "\n",
    "from django.db.models import Count, Sum\n",
    "\n",
    "p = Project.objects.get(pk=147)\n",
    "qid = 6299\n"
   ]
  },
  {
   "cell_type": "code",
   "execution_count": 2,
   "metadata": {},
   "outputs": [
    {
     "name": "stdout",
     "output_type": "stream",
     "text": [
      "Sufficiency and distributional analyses in the demand side of climate change mitigation\n",
      "Determinants of low-carbon transport mode adoption: Systematic review of reviews\n",
      "Status consciousness in energy consumption decisions: A systematic review of literature\n",
      "Exploring SDG links of dietary choice and food waste related mitigation solutions-II\n",
      "Well-being/demand side search query\n",
      "Working time reduction in climate change mitigation (same paper, diff query)\n",
      "Working time reduction in climate change mitigation\n",
      "Integrating Indigenous Knowledge Systems into climate change adaptation strategies for sustainable development\n",
      "Working time reduction in climate change mitigation\n",
      "Dematerialisation and sharing of goods: a systematic review of the determinants and magnitude of the indirect impacts on energy consumption\n",
      "Mitigating climate change in food consumption and food waste: A systematic map of behavioural interventions\n",
      "Disruptive consumer innovations for climate change\n",
      "Exploring SDG links of dietary choice and food waste related mitigation solutions\n",
      "A literature survey on demand-side solutions for climate-change mitigation\n",
      "Urban energy demand in global south cities\n",
      "A Systematic Review for The Equity of Health Burdens Caused by Climate Change\n",
      "Drivers for Behavioural Change\n",
      "The potential for teleworking\n"
     ]
    }
   ],
   "source": [
    "fig = plt.figure()\n",
    "\n",
    "for i, q in enumerate(p.query_set.filter(database=\"WoS\")):\n",
    "    print(q)\n",
    "    ax = plt.subplots()"
   ]
  }
 ],
 "metadata": {
  "kernelspec": {
   "display_name": "tmv",
   "language": "python",
   "name": "tmv"
  },
  "language_info": {
   "codemirror_mode": {
    "name": "ipython",
    "version": 3
   },
   "file_extension": ".py",
   "mimetype": "text/x-python",
   "name": "python",
   "nbconvert_exporter": "python",
   "pygments_lexer": "ipython3",
   "version": "3.6.7"
  },
  "varInspector": {
   "cols": {
    "lenName": 16,
    "lenType": 16,
    "lenVar": 40
   },
   "kernels_config": {
    "python": {
     "delete_cmd_postfix": "",
     "delete_cmd_prefix": "del ",
     "library": "var_list.py",
     "varRefreshCmd": "print(var_dic_list())"
    },
    "r": {
     "delete_cmd_postfix": ") ",
     "delete_cmd_prefix": "rm(",
     "library": "var_list.r",
     "varRefreshCmd": "cat(var_dic_list()) "
    }
   },
   "types_to_exclude": [
    "module",
    "function",
    "builtin_function_or_method",
    "instance",
    "_Feature"
   ],
   "window_display": false
  }
 },
 "nbformat": 4,
 "nbformat_minor": 2
}
