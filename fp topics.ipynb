{
 "cells": [
  {
   "cell_type": "code",
   "execution_count": 37,
   "metadata": {},
   "outputs": [],
   "source": [
    "import networkx as nx\n",
    "import pickle\n",
    "import random\n",
    "import scipy\n",
    "from scipy.sparse import tril, find\n",
    "import django\n",
    "import sys, os\n",
    "import pandas as pd\n",
    "import matplotlib.pyplot as plt\n",
    "import igraph\n",
    "from django.core.management import call_command\n",
    "\n",
    "sys.path.append('/home/galm/software/django/tmv/BasicBrowser/')\n",
    "os.environ.setdefault(\"DJANGO_SETTINGS_MODULE\", \"BasicBrowser.settings\")\n",
    "django.setup()\n",
    "\n",
    "from scoping.models import *\n",
    "from tmv_app.tasks import *\n",
    "import tmv_app\n",
    "import tmv_app.utils.plotting as tplots\n",
    "from tmv_app.utils.plotting import SquareCollection, CoordSquare\n",
    "\n",
    "pids = [148, 210, 147, 186]"
   ]
  },
  {
   "cell_type": "code",
   "execution_count": 35,
   "metadata": {},
   "outputs": [
    {
     "data": {
      "text/plain": [
       "(0, {})"
      ]
     },
     "execution_count": 35,
     "metadata": {},
     "output_type": "execute_result"
    }
   ],
   "source": [
    "RunStats.objects.filter(query=7360,K__gt=90).delete()"
   ]
  },
  {
   "cell_type": "code",
   "execution_count": 131,
   "metadata": {},
   "outputs": [
    {
     "name": "stdout",
     "output_type": "stream",
     "text": [
      "Health risks of warming of 1.5 degrees C, 2 degrees C, and higher, above pre-industrial temperatures\n",
      "climate change; dengue; occupational health; malaria; temperature-related mortality; undernutrition; ozone\n",
      "Background: In response to the Paris Agreement under the United Nations Framework Convention on Climate Change, the research community was asked to estimate differences in sectoral-specific risks at 1.5 degrees C and 2 degrees C increases in global mean surface air temperature (SAT) above pre-industrial temperatures. Projections of the health risks of climate change typically focus on time periods and not on the magnitude of temperature change. Objective: Summarize projections of health risks associated with temperature extremes and occupational heat stress, air quality, undernutrition, and vector-borne diseases to estimate how these risks would differ at increases in warming of 1.5 degrees C, 2 degrees C, and higher. Methods: A comprehensive search strategy included English language publications since 2008 projecting health risks of climate change identified through established databases. Of 109 relevant publications, nearly all were for future time periods (e.g. in 2030 and 2050) rather than future SAT thresholds. Time periods were therefore converted to temperature changes based on the models and scenarios used. Results: Warming of 1.5 degrees C is reached in about the 2030s for all multi-model means under all scenarios and warming of 2 degrees C is reached in about the 2050s under most scenarios. Of the 40 studies projecting risks at 1.5 and 2 degrees C increases of SAT, risks were higher at 2 degrees C for adverse health consequences associated with exposures to high ambient temperatures, ground-level ozone, and undernutrition, with regional variations. Risks for vector-borne diseases could increase or decrease with higher global mean temperatures, depending on regional climate responses and disease ecology. Conclusions: The burden of many climate-sensitive health risks are projected to be greater at an increase of 2 degrees C SAT above pre-industrial temperatures than at 1.5 degrees C. Future projection studies should report results based on changes in global and regional mean SATs and time, to facilitate quantitative analyses of health risks and to inform the level of ambition and timing of adaptation interventions.\n",
      "HEAT-RELATED MORTALITY; OZONE-RELATED MORTALITY; WEST NILE VIRUS; CLIMATE-CHANGE SCENARIOS; COLD-RELATED MORTALITY; AIR-POLLUTION; LYME-DISEASE; CHANGING CLIMATE; CHIKUNGUNYA TRANSMISSION; GEOGRAPHIC-DISTRIBUTION\n"
     ]
    },
    {
     "data": {
      "text/plain": [
       "[{'id': 7893,\n",
       "  'text': '(TS=((\"CO2\" OR \"GHG\" OR \"greenhouse gas\" OR \"climate change\" OR \"global warming\" OR “climate crisis”) AND (“non-mitigation policies” OR “welfare” OR “housing” or “employment” OR “urban transport” OR “air pollution”))) NOT WC = ( BIOPHYSICS OR OPTICS OR LIMNOLOGY OR PHYSIOLOGY OR VETERINARY SCIENCES OR COMPUTER SCIENCE INTERDISCIPLINARY APPLICATIONS OR MICROBIOLOGY OR NUTRITION DIETETICS OR ORNITHOLOGY OR ZOOLOGY OR PALEONTOLOGY OR MATERIALS SCIENCE MULTIDISCIPLINARY OR PARASITOLOGY OR EVOLUTIONARY BIOLOGY OR RESPIRATORY SYSTEM OR SOIL SCIENCE OR IMAGING SCIENCE PHOTOGRAPHIC TECHNOLOGY OR ELECTROCHEMISTRY OR ALLERGY OR CHEMISTRY PHYSICAL OR GEOCHEMISTRY GEOPHYSICS OR INSTRUMENTS INSTRUMENTATION OR TOXICOLOGY OR BIOCHEMISTRY MOLECULAR BIOLOGY OR IMMUNOLOGY OR COMPUTER SCIENCE THEORY METHODS OR ENGINEERING CHEMICAL OR COMPUTER SCIENCE ARTIFICIAL INTELLIGENCE OR BIOTECHNOLOGY APPLIED MICROBIOLOGY OR CHEMISTRY APPLIED OR CHEMISTRY ANALYTICAL OR INFECTIOUS DISEASES OR ARCHAEOLOGY OR PHYSICS APPLIED OR TROPICAL MEDICINE OR ENTOMOLOGY OR MARINE FRESHWATER BIOLOGY OR MEDICINE GENERAL INTERNAL OR GEOLOGY OR ENGINEERING ELECTRICAL ELECTRONIC OR COMPUTER SCIENCE INFORMATION SYSTEMS OR GENETICS HEREDITY OR AGRICULTURE DAIRY ANIMAL SCIENCE OR BIOLOGY ) ',\n",
       "  'title': 'Query L_renew'},\n",
       " {'id': 6305, 'text': '[GENERATED TYPE 1]', 'title': 'test - all docs'},\n",
       " {'id': 7360,\n",
       "  'text': '[GENERATED TYPE 1]',\n",
       "  'title': 'Energy demand all - all docs'}]"
      ]
     },
     "execution_count": 131,
     "metadata": {},
     "output_type": "execute_result"
    }
   ],
   "source": [
    "s = 'USAGE OF FORAGE PLANTS TO PREVENT EROSION'\n",
    "#d = Doc.objects.get(tslug=Doc.make_tslug(s))\n",
    "d = Doc.objects.get(pk=897719)\n",
    "print(d.title)\n",
    "print(d.wosarticle.de)\n",
    "print(d.content)\n",
    "print(d.wosarticle.kwp)\n",
    "\n",
    "list(d.query.filter(project__in=pids).values('id','title','text'))"
   ]
  },
  {
   "cell_type": "code",
   "execution_count": 26,
   "metadata": {},
   "outputs": [
    {
     "name": "stdout",
     "output_type": "stream",
     "text": [
      "['cell', 'culture', 'growth', 'rate', 'medium', 'acid', 'concentration', 'treatment', 'high', 'effect']\n",
      "<QuerySet [<Topic: {cell, culture, growth}>]>\n",
      "Short-term (24 h) experiments were performed to examine the effect of anthracene (ANT) on Chlamydomonas reinhardtii cw92 grown in a batch culture system aerated with 2.5% CO2 At concentrations ranging from 0.7 to 5.6 mu M, ANT inhibited the growth of population in a concentration-dependent manner and EC50 calculated amounted to 1.6 mu M. At concentrations from 0.7 to 4.2 mu M ANT stimulated respiration and inhibited the intensity of photosynthesis but did not affect chlorophyll content in the cells. ANT influenced chlorophyll a fluorescence parameters, measured by OJIP test (O, J, I and P are the different steps of fluorescence induction curve). ANT diminished the performance index (PI), the yield of primary photochemistry (phi(Po)), the yield of electron transport (phi(Eo,) the efficiency of moving the electron beyond Qa(-) (Psi(0)) and the fraction of active oxygen evolving complexes (OEC). The fraction of active PS II reaction centres in the treated samples dramatically dropped. The most pronounced changes in ANT-treated cells were observed in the stimulation of energy dissipation parameter (DI0/RC). The only OJIP parameter that was not influenced by ANT was energy absorption by photosynthetic antennae (ABS). The results lead to a conclusion that the inhibition of photosynthesis may be a consequence of unspecific ANT-membrane interaction, resulting from hydrophobic character of this hydrocarbon. (c) 2008 Elsevier Ltd. All rights reserved.\n"
     ]
    },
    {
     "data": {
      "text/plain": [
       "3034"
      ]
     },
     "execution_count": 26,
     "metadata": {},
     "output_type": "execute_result"
    }
   ],
   "source": [
    "bad_top = Topic.objects.get(pk=192847)\n",
    "\n",
    "print(bad_top.top_words)\n",
    "\n",
    "thresh = 0.02\n",
    "\n",
    "docs = Doc.objects.filter(doctopic__topic=bad_top, doctopic__score__gt=thresh)\n",
    "\n",
    "d = docs.order_by('doctopic__score')[2000]\n",
    "ts = Topic.objects.filter(\n",
    "    doctopic__doc=d,run_id=bad_top.run_id,doctopic__score__gt=thresh\n",
    ").order_by('-doctopic__score')\n",
    "print(ts)\n",
    "print(d.content)\n",
    "\n",
    "docs.count()"
   ]
  },
  {
   "cell_type": "code",
   "execution_count": 6,
   "metadata": {},
   "outputs": [
    {
     "data": {
      "text/plain": [
       "<QuerySet [{'query__title': 'Query E_renew', 'query__r_count': 4098, 'n': 2419}, {'query__title': 'Query K_renew', 'query__r_count': 5343, 'n': 723}, {'query__title': 'Query L_renew', 'query__r_count': 9760, 'n': 586}, {'query__title': 'A literature survey on demand-side solutions for climate-change mitigation', 'query__r_count': 5378, 'n': 566}, {'query__title': 'Quantifying the potential for climate change mitigation of consumption-based options', 'query__r_count': 5257, 'n': 456}, {'query__title': 'Status consciousness in energy consumption decisions: A systematic review of literature', 'query__r_count': 3237, 'n': 245}, {'query__title': 'Determinants of low-carbon transport mode adoption: Systematic review of reviews', 'query__r_count': 4638, 'n': 238}, {'query__title': 'Mitigating climate change in food consumption and food waste: A systematic map of behavioural interventions', 'query__r_count': 1045, 'n': 209}, {'query__title': 'Query N_renew', 'query__r_count': 4704, 'n': 163}, {'query__title': 'Exploring SDG links of dietary choice and food waste related mitigation solutions', 'query__r_count': 1962, 'n': 162}, {'query__title': 'Sufficiency and distributional analyses in the demand side of climate change mitigation', 'query__r_count': 1498, 'n': 146}, {'query__title': 'Exploring SDG links of dietary choice and food waste related mitigation solutions-II', 'query__r_count': 1285, 'n': 141}, {'query__title': 'Drivers for Behavioural Change', 'query__r_count': 2011, 'n': 133}, {'query__title': 'Query I_renew', 'query__r_count': 1554, 'n': 101}, {'query__title': 'Query J_renew', 'query__r_count': 941, 'n': 96}, {'query__title': 'Query D_renew', 'query__r_count': 3290, 'n': 89}, {'query__title': 'x3', 'query__r_count': 6091, 'n': 81}, {'query__title': 'x5', 'query__r_count': 5356, 'n': 80}, {'query__title': 'x8', 'query__r_count': 607, 'n': 74}, {'query__title': 'Query C_renew', 'query__r_count': 710, 'n': 60}, '...(remaining elements truncated)...']>"
      ]
     },
     "execution_count": 6,
     "metadata": {},
     "output_type": "execute_result"
    }
   ],
   "source": [
    "docs.filter(query__database=\"WoS\",query__project__in=pids).values('query__title','query__r_count').annotate(\n",
    "    n = Count('pk')\n",
    ").order_by('-n')"
   ]
  },
  {
   "cell_type": "code",
   "execution_count": 135,
   "metadata": {},
   "outputs": [
    {
     "data": {
      "text/plain": [
       "[{'title': '{growth, rate, population}'},\n",
       " {'title': '{region, regional, area}'},\n",
       " {'title': '{plant, leaf, root}'},\n",
       " {'title': '{ch4, methane, n2o}'},\n",
       " {'title': '{control, load, controller}'},\n",
       " {'title': '{model, simulation, prediction}'},\n",
       " {'title': '{system, performance, operation}'},\n",
       " {'title': '{climate, impact, global}'},\n",
       " {'title': '{temperature, degree, increase}'},\n",
       " {'title': '{intensity, factor, efficiency}'},\n",
       " {'title': '{data, use, information}'},\n",
       " {'title': '{cell, culture, medium}'},\n",
       " {'title': '{vulnerability, resilience, drought}'},\n",
       " {'title': '{specie, ecosystem, fish}'},\n",
       " {'title': '{design, method, approach}'}]"
      ]
     },
     "execution_count": 135,
     "metadata": {},
     "output_type": "execute_result"
    }
   ],
   "source": [
    "bad_topic_ids = [\n",
    "    198423,\n",
    "    198376,\n",
    "    198396,\n",
    "    198375,\n",
    "    198403,\n",
    "    198368,\n",
    "    198371,\n",
    "    198358,\n",
    "    198355,\n",
    "    198422,\n",
    "    198393,\n",
    "    198381,\n",
    "    198417,\n",
    "    198378,\n",
    "    198395\n",
    "]\n",
    "bad_topics = Topic.objects.filter(pk__in=bad_topic_ids)\n",
    "list(bad_topics.values('title'))"
   ]
  },
  {
   "cell_type": "code",
   "execution_count": 185,
   "metadata": {},
   "outputs": [
    {
     "name": "stdout",
     "output_type": "stream",
     "text": [
      "{growth, rate, population}\n",
      "534\n",
      "{region, regional, area}\n",
      "468\n",
      "{plant, leaf, root}\n",
      "1039\n",
      "{ch4, methane, n2o}\n",
      "718\n",
      "{control, load, controller}\n",
      "568\n",
      "{model, simulation, prediction}\n",
      "594\n",
      "{system, performance, operation}\n",
      "637\n",
      "{climate, impact, global}\n",
      "779\n",
      "{temperature, degree, increase}\n",
      "1055\n",
      "{intensity, factor, efficiency}\n",
      "671\n",
      "{data, use, information}\n",
      "277\n",
      "{cell, culture, medium}\n",
      "867\n",
      "{vulnerability, resilience, drought}\n",
      "719\n",
      "{specie, ecosystem, fish}\n",
      "1109\n",
      "{design, method, approach}\n",
      "279\n",
      "10314\n"
     ]
    },
    {
     "data": {
      "text/plain": [
       "9806"
      ]
     },
     "execution_count": 185,
     "metadata": {},
     "output_type": "execute_result"
    }
   ],
   "source": [
    "doc_ids = set([])\n",
    "n_docs = 0\n",
    "for t in bad_topics:\n",
    "    print(t)\n",
    "    docs = Doc.objects.filter(\n",
    "        doctopic__topic=t,doctopic__score__gt=0.04\n",
    "    )\n",
    "    doc_ids = doc_ids | set(docs.values_list('pk',flat=True))\n",
    "    print(docs.count())\n",
    "    n_docs+=docs.count()\n",
    "    \n",
    "print(n_docs)\n",
    "len(doc_ids)"
   ]
  },
  {
   "cell_type": "code",
   "execution_count": 186,
   "metadata": {},
   "outputs": [
    {
     "data": {
      "text/plain": [
       "7508"
      ]
     },
     "execution_count": 186,
     "metadata": {},
     "output_type": "execute_result"
    }
   ],
   "source": [
    "other_topics = Topic.objects.filter(\n",
    "    run_id=t.run_id\n",
    ").exclude(pk__in=bad_topic_ids)\n",
    "\n",
    "other_t_docs = Doc.objects.filter(\n",
    "    pk__in=doc_ids, \n",
    "    doctopic__topic__in=other_topics,\n",
    "    doctopic__score__gt=0.02\n",
    ")\n",
    "other_t_doc_ids = set(other_t_docs.values_list('pk',flat=True))\n",
    "len(other_t_doc_ids)\n"
   ]
  },
  {
   "cell_type": "code",
   "execution_count": 187,
   "metadata": {},
   "outputs": [
    {
     "data": {
      "text/plain": [
       "<RunStats: RunStats object (2624)>"
      ]
     },
     "execution_count": 187,
     "metadata": {},
     "output_type": "execute_result"
    }
   ],
   "source": [
    "t.run_id"
   ]
  },
  {
   "cell_type": "code",
   "execution_count": 188,
   "metadata": {
    "scrolled": false
   },
   "outputs": [
    {
     "data": {
      "text/plain": [
       "[{'content': 'A stator-flux-oriented vector-controlled induction motor drive is described where the space-vector pulsewidth modulation (SVM) and stator-flux-vector estimation are implemented by artificial neural networks (ANNs). ANNs, when implemented by dedicated hardware application-specific integrated circuit chips, provide extreme simplification and fast execution for control and feedback signal processing functions in high-performance ac drives. In the proposed project, a feedforward ANN-based SVM, operating at 20 kHz sampling frequency, generates symmetrical pulsewidth modulation (PWM) pulses in both undermodulation and overmodulation regions covering the range from de (zero frequency) up to square-wave mode at 60 Hz. In addition, a programmable cascaded low-pass filter (PCLPF), that permits dc offset-free stator-flux-vector synthesis at very low frequency using the voltage model, has been implemented by a hybrid neural network which consists of a recurrent neural network (RNN) and a feedforward neural network (FFANN). The RNN-FFANN-based flux estimation is simple, permits faster implementation, and gives superior transient performance when compared with a standard digital-signal-processor-based PCLPF. A 5-hp open-loop volts/Hz-controlled drive incorporating the proposed ANN-based SVM and RNN-FFANN-based flux estimator was initially evaluated in the frequency range of 1.0-58 Hz to validate the performance of SVM and the flux estimator. Next, the complete 5-hp drive with stator-flux-oriented vector control was evaluated extensively using the PWM modulator and flux estimator. The drive performance in both volts/Hz control and vector control were found to be excellent.',\n",
       "  'doctopic__score': 0.0291373043771421,\n",
       "  'doctopic__topic__title': '{network, service, user}',\n",
       "  'id': 1631621,\n",
       "  'title': 'A stator-flux-oriented vector-controlled induction motor drive with space-vector PWM and flux-vector synthesis by neural networks',\n",
       "  'wosarticle__de': 'induction motor; neural network; space-vector pulsewidth modulation; vector control'},\n",
       " {'content': 'A stator-flux-oriented vector-controlled induction motor drive is described where the space-vector pulsewidth modulation (SVM) and stator-flux-vector estimation are implemented by artificial neural networks (ANNs). ANNs, when implemented by dedicated hardware application-specific integrated circuit chips, provide extreme simplification and fast execution for control and feedback signal processing functions in high-performance ac drives. In the proposed project, a feedforward ANN-based SVM, operating at 20 kHz sampling frequency, generates symmetrical pulsewidth modulation (PWM) pulses in both undermodulation and overmodulation regions covering the range from de (zero frequency) up to square-wave mode at 60 Hz. In addition, a programmable cascaded low-pass filter (PCLPF), that permits dc offset-free stator-flux-vector synthesis at very low frequency using the voltage model, has been implemented by a hybrid neural network which consists of a recurrent neural network (RNN) and a feedforward neural network (FFANN). The RNN-FFANN-based flux estimation is simple, permits faster implementation, and gives superior transient performance when compared with a standard digital-signal-processor-based PCLPF. A 5-hp open-loop volts/Hz-controlled drive incorporating the proposed ANN-based SVM and RNN-FFANN-based flux estimator was initially evaluated in the frequency range of 1.0-58 Hz to validate the performance of SVM and the flux estimator. Next, the complete 5-hp drive with stator-flux-oriented vector control was evaluated extensively using the PWM modulator and flux estimator. The drive performance in both volts/Hz control and vector control were found to be excellent.',\n",
       "  'doctopic__score': 0.0462289374298436,\n",
       "  'doctopic__topic__title': '{control, load, controller}',\n",
       "  'id': 1631621,\n",
       "  'title': 'A stator-flux-oriented vector-controlled induction motor drive with space-vector PWM and flux-vector synthesis by neural networks',\n",
       "  'wosarticle__de': 'induction motor; neural network; space-vector pulsewidth modulation; vector control'},\n",
       " {'content': 'A stator-flux-oriented vector-controlled induction motor drive is described where the space-vector pulsewidth modulation (SVM) and stator-flux-vector estimation are implemented by artificial neural networks (ANNs). ANNs, when implemented by dedicated hardware application-specific integrated circuit chips, provide extreme simplification and fast execution for control and feedback signal processing functions in high-performance ac drives. In the proposed project, a feedforward ANN-based SVM, operating at 20 kHz sampling frequency, generates symmetrical pulsewidth modulation (PWM) pulses in both undermodulation and overmodulation regions covering the range from de (zero frequency) up to square-wave mode at 60 Hz. In addition, a programmable cascaded low-pass filter (PCLPF), that permits dc offset-free stator-flux-vector synthesis at very low frequency using the voltage model, has been implemented by a hybrid neural network which consists of a recurrent neural network (RNN) and a feedforward neural network (FFANN). The RNN-FFANN-based flux estimation is simple, permits faster implementation, and gives superior transient performance when compared with a standard digital-signal-processor-based PCLPF. A 5-hp open-loop volts/Hz-controlled drive incorporating the proposed ANN-based SVM and RNN-FFANN-based flux estimator was initially evaluated in the frequency range of 1.0-58 Hz to validate the performance of SVM and the flux estimator. Next, the complete 5-hp drive with stator-flux-oriented vector control was evaluated extensively using the PWM modulator and flux estimator. The drive performance in both volts/Hz control and vector control were found to be excellent.',\n",
       "  'doctopic__score': 0.0114077970057544,\n",
       "  'doctopic__topic__title': '{ch4, methane, n2o}',\n",
       "  'id': 1631621,\n",
       "  'title': 'A stator-flux-oriented vector-controlled induction motor drive with space-vector PWM and flux-vector synthesis by neural networks',\n",
       "  'wosarticle__de': 'induction motor; neural network; space-vector pulsewidth modulation; vector control'}]"
      ]
     },
     "execution_count": 188,
     "metadata": {},
     "output_type": "execute_result"
    }
   ],
   "source": [
    "list(Doc.objects.filter(\n",
    "    pk__in=random.sample(other_t_doc_ids,1),\n",
    "    doctopic__topic__run_id=t.run_id,\n",
    "    doctopic__score__gt=0.008\n",
    ").values(\n",
    "    'title',\n",
    "    'content',\n",
    "    'id',\n",
    "    'wosarticle__de',\n",
    "    'doctopic__topic__title',\n",
    "    'doctopic__score'\n",
    "))"
   ]
  },
  {
   "cell_type": "code",
   "execution_count": 189,
   "metadata": {
    "scrolled": false
   },
   "outputs": [
    {
     "name": "stdout",
     "output_type": "stream",
     "text": [
      "2298\n"
     ]
    },
    {
     "data": {
      "text/plain": [
       "[{'content': \"Recent droughts in Puerto Rico and throughout the Caribbean have emphasized the region's agricultural vulnerability to this hazard and the increasing need for adaptation mechanisms to support sustainable production. In this study, we assessed the geographic extent of agricultural conservation practices incentivized by US Department of Agriculture Natural Resources Conservation Service (NRCS) and evaluated their large-scale contribution to drought adaptability. We identified concentrations of drought-related practices (e.g. cover crops, ponds) applied between 2000 and 2016. Using information from spatial databases and interviews with experts, we assessed the spatial correlation between these practices and areas exposed to drought as identified by the US Drought Monitor. Between 2000 and 2016, Puerto Rico experienced seven drought episodes concentrated around the south, east and southeastern regions. The most profound drought occurred between 2014 and 2016 when the island experienced 80 consecutive weeks of moderate drought, 48 of severe drought and 33 of extreme drought conditions. A total of 44 drought-related conservation practices were applied at 6984 locations throughout 860 km(2) of farmlands between 2000 and 2016 through the NRCS-Environmental Quality Incentives Program (EQIP). Practices related to water availability were statistically clustered along the coasts, whereas soil and plant health practices were clustered in the mountainous region. While these concentrations strongly correlated with areas exposed to moderate drought conditions, >80% did not coincide with areas that experienced severe or extreme drought conditions, suggesting that areas highly exposed to drought conditions generally lacked drought preparedness assisted by EQIP. Climate projections indicate an increase in the frequency and intensity of drought events, particularly in the eastern region of Puerto Rico. Our analysis highlighted the need to implement more conservation practices in these areas subject to drought intensification and exposure. Government programs intended to address vulnerabilities and enhance capacity and resilience may not be reaching areas of highest exposure. Recommendations include raising producer awareness of past and future exposure and making programs more accessible to a broader audience.\",\n",
       "  'doctopic__score': 0.0184525031881843,\n",
       "  'doctopic__topic__title': '{farmer, farm, agricultural}',\n",
       "  'id': 1301089,\n",
       "  'title': 'Correlating drought conservation practices and drought vulnerability in a tropical agricultural system'},\n",
       " {'content': \"Recent droughts in Puerto Rico and throughout the Caribbean have emphasized the region's agricultural vulnerability to this hazard and the increasing need for adaptation mechanisms to support sustainable production. In this study, we assessed the geographic extent of agricultural conservation practices incentivized by US Department of Agriculture Natural Resources Conservation Service (NRCS) and evaluated their large-scale contribution to drought adaptability. We identified concentrations of drought-related practices (e.g. cover crops, ponds) applied between 2000 and 2016. Using information from spatial databases and interviews with experts, we assessed the spatial correlation between these practices and areas exposed to drought as identified by the US Drought Monitor. Between 2000 and 2016, Puerto Rico experienced seven drought episodes concentrated around the south, east and southeastern regions. The most profound drought occurred between 2014 and 2016 when the island experienced 80 consecutive weeks of moderate drought, 48 of severe drought and 33 of extreme drought conditions. A total of 44 drought-related conservation practices were applied at 6984 locations throughout 860 km(2) of farmlands between 2000 and 2016 through the NRCS-Environmental Quality Incentives Program (EQIP). Practices related to water availability were statistically clustered along the coasts, whereas soil and plant health practices were clustered in the mountainous region. While these concentrations strongly correlated with areas exposed to moderate drought conditions, >80% did not coincide with areas that experienced severe or extreme drought conditions, suggesting that areas highly exposed to drought conditions generally lacked drought preparedness assisted by EQIP. Climate projections indicate an increase in the frequency and intensity of drought events, particularly in the eastern region of Puerto Rico. Our analysis highlighted the need to implement more conservation practices in these areas subject to drought intensification and exposure. Government programs intended to address vulnerabilities and enhance capacity and resilience may not be reaching areas of highest exposure. Recommendations include raising producer awareness of past and future exposure and making programs more accessible to a broader audience.\",\n",
       "  'doctopic__score': 0.0127381536635322,\n",
       "  'doctopic__topic__title': '{plant, leaf, root}',\n",
       "  'id': 1301089,\n",
       "  'title': 'Correlating drought conservation practices and drought vulnerability in a tropical agricultural system'},\n",
       " {'content': \"Recent droughts in Puerto Rico and throughout the Caribbean have emphasized the region's agricultural vulnerability to this hazard and the increasing need for adaptation mechanisms to support sustainable production. In this study, we assessed the geographic extent of agricultural conservation practices incentivized by US Department of Agriculture Natural Resources Conservation Service (NRCS) and evaluated their large-scale contribution to drought adaptability. We identified concentrations of drought-related practices (e.g. cover crops, ponds) applied between 2000 and 2016. Using information from spatial databases and interviews with experts, we assessed the spatial correlation between these practices and areas exposed to drought as identified by the US Drought Monitor. Between 2000 and 2016, Puerto Rico experienced seven drought episodes concentrated around the south, east and southeastern regions. The most profound drought occurred between 2014 and 2016 when the island experienced 80 consecutive weeks of moderate drought, 48 of severe drought and 33 of extreme drought conditions. A total of 44 drought-related conservation practices were applied at 6984 locations throughout 860 km(2) of farmlands between 2000 and 2016 through the NRCS-Environmental Quality Incentives Program (EQIP). Practices related to water availability were statistically clustered along the coasts, whereas soil and plant health practices were clustered in the mountainous region. While these concentrations strongly correlated with areas exposed to moderate drought conditions, >80% did not coincide with areas that experienced severe or extreme drought conditions, suggesting that areas highly exposed to drought conditions generally lacked drought preparedness assisted by EQIP. Climate projections indicate an increase in the frequency and intensity of drought events, particularly in the eastern region of Puerto Rico. Our analysis highlighted the need to implement more conservation practices in these areas subject to drought intensification and exposure. Government programs intended to address vulnerabilities and enhance capacity and resilience may not be reaching areas of highest exposure. Recommendations include raising producer awareness of past and future exposure and making programs more accessible to a broader audience.\",\n",
       "  'doctopic__score': 0.0098393204217309,\n",
       "  'doctopic__topic__title': '{crop, yield, rice}',\n",
       "  'id': 1301089,\n",
       "  'title': 'Correlating drought conservation practices and drought vulnerability in a tropical agricultural system'},\n",
       " {'content': \"Recent droughts in Puerto Rico and throughout the Caribbean have emphasized the region's agricultural vulnerability to this hazard and the increasing need for adaptation mechanisms to support sustainable production. In this study, we assessed the geographic extent of agricultural conservation practices incentivized by US Department of Agriculture Natural Resources Conservation Service (NRCS) and evaluated their large-scale contribution to drought adaptability. We identified concentrations of drought-related practices (e.g. cover crops, ponds) applied between 2000 and 2016. Using information from spatial databases and interviews with experts, we assessed the spatial correlation between these practices and areas exposed to drought as identified by the US Drought Monitor. Between 2000 and 2016, Puerto Rico experienced seven drought episodes concentrated around the south, east and southeastern regions. The most profound drought occurred between 2014 and 2016 when the island experienced 80 consecutive weeks of moderate drought, 48 of severe drought and 33 of extreme drought conditions. A total of 44 drought-related conservation practices were applied at 6984 locations throughout 860 km(2) of farmlands between 2000 and 2016 through the NRCS-Environmental Quality Incentives Program (EQIP). Practices related to water availability were statistically clustered along the coasts, whereas soil and plant health practices were clustered in the mountainous region. While these concentrations strongly correlated with areas exposed to moderate drought conditions, >80% did not coincide with areas that experienced severe or extreme drought conditions, suggesting that areas highly exposed to drought conditions generally lacked drought preparedness assisted by EQIP. Climate projections indicate an increase in the frequency and intensity of drought events, particularly in the eastern region of Puerto Rico. Our analysis highlighted the need to implement more conservation practices in these areas subject to drought intensification and exposure. Government programs intended to address vulnerabilities and enhance capacity and resilience may not be reaching areas of highest exposure. Recommendations include raising producer awareness of past and future exposure and making programs more accessible to a broader audience.\",\n",
       "  'doctopic__score': 0.0241108907321948,\n",
       "  'doctopic__topic__title': '{region, regional, area}',\n",
       "  'id': 1301089,\n",
       "  'title': 'Correlating drought conservation practices and drought vulnerability in a tropical agricultural system'},\n",
       " {'content': \"Recent droughts in Puerto Rico and throughout the Caribbean have emphasized the region's agricultural vulnerability to this hazard and the increasing need for adaptation mechanisms to support sustainable production. In this study, we assessed the geographic extent of agricultural conservation practices incentivized by US Department of Agriculture Natural Resources Conservation Service (NRCS) and evaluated their large-scale contribution to drought adaptability. We identified concentrations of drought-related practices (e.g. cover crops, ponds) applied between 2000 and 2016. Using information from spatial databases and interviews with experts, we assessed the spatial correlation between these practices and areas exposed to drought as identified by the US Drought Monitor. Between 2000 and 2016, Puerto Rico experienced seven drought episodes concentrated around the south, east and southeastern regions. The most profound drought occurred between 2014 and 2016 when the island experienced 80 consecutive weeks of moderate drought, 48 of severe drought and 33 of extreme drought conditions. A total of 44 drought-related conservation practices were applied at 6984 locations throughout 860 km(2) of farmlands between 2000 and 2016 through the NRCS-Environmental Quality Incentives Program (EQIP). Practices related to water availability were statistically clustered along the coasts, whereas soil and plant health practices were clustered in the mountainous region. While these concentrations strongly correlated with areas exposed to moderate drought conditions, >80% did not coincide with areas that experienced severe or extreme drought conditions, suggesting that areas highly exposed to drought conditions generally lacked drought preparedness assisted by EQIP. Climate projections indicate an increase in the frequency and intensity of drought events, particularly in the eastern region of Puerto Rico. Our analysis highlighted the need to implement more conservation practices in these areas subject to drought intensification and exposure. Government programs intended to address vulnerabilities and enhance capacity and resilience may not be reaching areas of highest exposure. Recommendations include raising producer awareness of past and future exposure and making programs more accessible to a broader audience.\",\n",
       "  'doctopic__score': 0.0722199293238742,\n",
       "  'doctopic__topic__title': '{vulnerability, resilience, drought}',\n",
       "  'id': 1301089,\n",
       "  'title': 'Correlating drought conservation practices and drought vulnerability in a tropical agricultural system'},\n",
       " {'content': \"Recent droughts in Puerto Rico and throughout the Caribbean have emphasized the region's agricultural vulnerability to this hazard and the increasing need for adaptation mechanisms to support sustainable production. In this study, we assessed the geographic extent of agricultural conservation practices incentivized by US Department of Agriculture Natural Resources Conservation Service (NRCS) and evaluated their large-scale contribution to drought adaptability. We identified concentrations of drought-related practices (e.g. cover crops, ponds) applied between 2000 and 2016. Using information from spatial databases and interviews with experts, we assessed the spatial correlation between these practices and areas exposed to drought as identified by the US Drought Monitor. Between 2000 and 2016, Puerto Rico experienced seven drought episodes concentrated around the south, east and southeastern regions. The most profound drought occurred between 2014 and 2016 when the island experienced 80 consecutive weeks of moderate drought, 48 of severe drought and 33 of extreme drought conditions. A total of 44 drought-related conservation practices were applied at 6984 locations throughout 860 km(2) of farmlands between 2000 and 2016 through the NRCS-Environmental Quality Incentives Program (EQIP). Practices related to water availability were statistically clustered along the coasts, whereas soil and plant health practices were clustered in the mountainous region. While these concentrations strongly correlated with areas exposed to moderate drought conditions, >80% did not coincide with areas that experienced severe or extreme drought conditions, suggesting that areas highly exposed to drought conditions generally lacked drought preparedness assisted by EQIP. Climate projections indicate an increase in the frequency and intensity of drought events, particularly in the eastern region of Puerto Rico. Our analysis highlighted the need to implement more conservation practices in these areas subject to drought intensification and exposure. Government programs intended to address vulnerabilities and enhance capacity and resilience may not be reaching areas of highest exposure. Recommendations include raising producer awareness of past and future exposure and making programs more accessible to a broader audience.\",\n",
       "  'doctopic__score': 0.0104601454712792,\n",
       "  'doctopic__topic__title': '{concentration, pm2, ozone}',\n",
       "  'id': 1301089,\n",
       "  'title': 'Correlating drought conservation practices and drought vulnerability in a tropical agricultural system'}]"
      ]
     },
     "execution_count": 189,
     "metadata": {},
     "output_type": "execute_result"
    }
   ],
   "source": [
    "remove_docs = doc_ids - other_t_doc_ids\n",
    "print(len(remove_docs))\n",
    "list(Doc.objects.filter(\n",
    "    pk__in=random.sample(remove_docs,1),\n",
    "    doctopic__topic__run_id=t.run_id,\n",
    "    doctopic__score__gt=0.008\n",
    ").values(\n",
    "    'title',\n",
    "    'content',\n",
    "    'id',\n",
    "    'doctopic__topic__title',\n",
    "    'doctopic__score'\n",
    "))\n"
   ]
  },
  {
   "cell_type": "code",
   "execution_count": 190,
   "metadata": {},
   "outputs": [
    {
     "data": {
      "text/plain": [
       "[{'title': 'The chironomid-temperature relationship: expression in nature and palaeoenvironmental implications'},\n",
       " {'title': 'Twenty thousand sterling under the sea: Estimating the value of protecting deep-sea biodiversity'},\n",
       " {'title': 'Douglas-fir growth in mountain ecosystems: Water limits tree growth from stand to region'},\n",
       " {'title': 'Environmental traits affect chironomid communities in glacial areas of the Southern Alps: evidence from a long-lasting case study'},\n",
       " {'title': 'Time Scale Analysis and Synthesis for Unmanned Aerial Vehicles(UAVs)'},\n",
       " {'title': 'Assessment of cadmium-induced hepatotoxicity and protective effects of zinc against it using an improved cell-based biosensor'},\n",
       " {'title': 'Carbon dioxide fixation by Chlorella sp USTB-01 with a fermentor-helical combined photobioreactor'},\n",
       " {'title': 'Na+-coupled bicarbonate transporters in duodenum, collecting ducts and choroid plexus'},\n",
       " {'title': 'Functional characterization of ACDP2 (ancient conserved domain protein), a divalent metal transporter'},\n",
       " {'title': 'The effects of exogenous prostaglandins and the identification of constitutive cyclooxygenase I and II immunoreactivity in the normal guinea pig bladder'}]"
      ]
     },
     "execution_count": 190,
     "metadata": {},
     "output_type": "execute_result"
    }
   ],
   "source": [
    "list(Doc.objects.filter(\n",
    "    pk__in=random.sample(remove_docs,10),\n",
    ").values(\n",
    "    'title',#'content'\n",
    "))"
   ]
  },
  {
   "cell_type": "code",
   "execution_count": 191,
   "metadata": {},
   "outputs": [],
   "source": [
    "#exclude_docs = Doc.objects.filter(pk__in=remove_docs)\n",
    "\n",
    "ex_q, created = Query.objects.get_or_create(\n",
    "    title=\"Topic Exclusions\",\n",
    "    text=\"Manually generated\",\n",
    "    creator=User.objects.get(pk=1),\n",
    "    project=Project.objects.get(pk=186)\n",
    ")\n",
    "\n",
    "ex_q.doc_set.clear()\n",
    "\n",
    "Through = Doc.query.through\n",
    "dqs = [Through(doc_id=d,query=ex_q) for d in remove_docs]\n",
    "Through.objects.bulk_create(dqs)\n",
    "\n",
    "ex_q.r_count = ex_q.doc_set.count()\n",
    "ex_q.save()"
   ]
  },
  {
   "cell_type": "code",
   "execution_count": 192,
   "metadata": {},
   "outputs": [
    {
     "name": "stdout",
     "output_type": "stream",
     "text": [
      "79475\n",
      "77177\n"
     ]
    }
   ],
   "source": [
    "q = Query.objects.get(pk=7360)\n",
    "ds = set(q.doc_set.values_list('pk',flat=True))\n",
    "print(len(ds))\n",
    "drs = ds - remove_docs\n",
    "print(len(drs))"
   ]
  },
  {
   "cell_type": "code",
   "execution_count": 193,
   "metadata": {},
   "outputs": [],
   "source": [
    "#exclude_docs = Doc.objects.filter(pk__in=remove_docs)\n",
    "\n",
    "aex_q, created = Query.objects.get_or_create(\n",
    "    title=\"Energy demand all - all docs - topic_exclusions\",\n",
    "    text=\"Manually generated\",\n",
    "    creator=User.objects.get(pk=1),\n",
    "    project=Project.objects.get(pk=186)\n",
    ")\n",
    "aex_q.doc_set.clear()\n",
    "\n",
    "Through = Doc.query.through\n",
    "dqs = [Through(doc_id=d,query=aex_q) for d in drs]\n",
    "Through.objects.bulk_create(dqs)\n",
    "\n",
    "aex_q.r_count = aex_q.doc_set.count()\n",
    "aex_q.save()"
   ]
  },
  {
   "cell_type": "code",
   "execution_count": 194,
   "metadata": {},
   "outputs": [
    {
     "name": "stdout",
     "output_type": "stream",
     "text": [
      "22835\n",
      "22317\n"
     ]
    }
   ],
   "source": [
    "q = Query.objects.get(pk=7941)\n",
    "ds = set(q.doc_set.values_list('pk',flat=True))\n",
    "print(len(ds))\n",
    "drs = ds - remove_docs\n",
    "print(len(drs))"
   ]
  },
  {
   "cell_type": "code",
   "execution_count": 195,
   "metadata": {},
   "outputs": [],
   "source": [
    "#exclude_docs = Doc.objects.filter(pk__in=remove_docs)\n",
    "\n",
    "sub_ex_q, created = Query.objects.get_or_create(\n",
    "    title=\"No reviews - all docs - topic_exclusions\",\n",
    "    text=\"Manually generated\",\n",
    "    creator=User.objects.get(pk=1),\n",
    "    project=Project.objects.get(pk=186)\n",
    ")\n",
    "sub_ex_q.doc_set.clear()\n",
    "\n",
    "Through = Doc.query.through\n",
    "dqs = [Through(doc_id=d,query=sub_ex_q) for d in drs]\n",
    "Through.objects.bulk_create(dqs)\n",
    "\n",
    "sub_ex_q.r_count = sub_ex_q.doc_set.count()\n",
    "sub_ex_q.save()"
   ]
  },
  {
   "cell_type": "code",
   "execution_count": null,
   "metadata": {},
   "outputs": [],
   "source": []
  }
 ],
 "metadata": {
  "kernelspec": {
   "display_name": "tmv",
   "language": "python",
   "name": "tmv"
  },
  "language_info": {
   "codemirror_mode": {
    "name": "ipython",
    "version": 3
   },
   "file_extension": ".py",
   "mimetype": "text/x-python",
   "name": "python",
   "nbconvert_exporter": "python",
   "pygments_lexer": "ipython3",
   "version": "3.6.7"
  },
  "varInspector": {
   "cols": {
    "lenName": 16,
    "lenType": 16,
    "lenVar": 40
   },
   "kernels_config": {
    "python": {
     "delete_cmd_postfix": "",
     "delete_cmd_prefix": "del ",
     "library": "var_list.py",
     "varRefreshCmd": "print(var_dic_list())"
    },
    "r": {
     "delete_cmd_postfix": ") ",
     "delete_cmd_prefix": "rm(",
     "library": "var_list.r",
     "varRefreshCmd": "cat(var_dic_list()) "
    }
   },
   "types_to_exclude": [
    "module",
    "function",
    "builtin_function_or_method",
    "instance",
    "_Feature"
   ],
   "window_display": false
  }
 },
 "nbformat": 4,
 "nbformat_minor": 2
}
