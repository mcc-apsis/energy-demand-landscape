{
 "cells": [
  {
   "cell_type": "code",
   "execution_count": 1,
   "metadata": {},
   "outputs": [],
   "source": [
    "import networkx as nx\n",
    "import pickle\n",
    "import random\n",
    "import scipy\n",
    "from scipy.sparse import tril, find\n",
    "import django\n",
    "import sys, os\n",
    "import pandas as pd\n",
    "import matplotlib.pyplot as plt\n",
    "import igraph\n",
    "from django.core.management import call_command\n",
    "\n",
    "sys.path.append('/home/galm/software/django/tmv/BasicBrowser/')\n",
    "os.environ.setdefault(\"DJANGO_SETTINGS_MODULE\", \"BasicBrowser.settings\")\n",
    "django.setup()\n",
    "\n",
    "from scoping.models import *\n",
    "from tmv_app.tasks import *\n",
    "import tmv_app\n",
    "import tmv_app.utils.plotting as tplots\n",
    "from tmv_app.utils.plotting import SquareCollection, CoordSquare\n",
    "\n",
    "pids = [148, 210, 147, 186]"
   ]
  },
  {
   "cell_type": "code",
   "execution_count": 26,
   "metadata": {},
   "outputs": [
    {
     "name": "stdout",
     "output_type": "stream",
     "text": [
      "['cell', 'culture', 'growth', 'rate', 'medium', 'acid', 'concentration', 'treatment', 'high', 'effect']\n",
      "<QuerySet [<Topic: {cell, culture, growth}>]>\n",
      "Short-term (24 h) experiments were performed to examine the effect of anthracene (ANT) on Chlamydomonas reinhardtii cw92 grown in a batch culture system aerated with 2.5% CO2 At concentrations ranging from 0.7 to 5.6 mu M, ANT inhibited the growth of population in a concentration-dependent manner and EC50 calculated amounted to 1.6 mu M. At concentrations from 0.7 to 4.2 mu M ANT stimulated respiration and inhibited the intensity of photosynthesis but did not affect chlorophyll content in the cells. ANT influenced chlorophyll a fluorescence parameters, measured by OJIP test (O, J, I and P are the different steps of fluorescence induction curve). ANT diminished the performance index (PI), the yield of primary photochemistry (phi(Po)), the yield of electron transport (phi(Eo,) the efficiency of moving the electron beyond Qa(-) (Psi(0)) and the fraction of active oxygen evolving complexes (OEC). The fraction of active PS II reaction centres in the treated samples dramatically dropped. The most pronounced changes in ANT-treated cells were observed in the stimulation of energy dissipation parameter (DI0/RC). The only OJIP parameter that was not influenced by ANT was energy absorption by photosynthetic antennae (ABS). The results lead to a conclusion that the inhibition of photosynthesis may be a consequence of unspecific ANT-membrane interaction, resulting from hydrophobic character of this hydrocarbon. (c) 2008 Elsevier Ltd. All rights reserved.\n"
     ]
    },
    {
     "data": {
      "text/plain": [
       "3034"
      ]
     },
     "execution_count": 26,
     "metadata": {},
     "output_type": "execute_result"
    }
   ],
   "source": [
    "bad_top = Topic.objects.get(pk=192847)\n",
    "\n",
    "print(bad_top.top_words)\n",
    "\n",
    "thresh = 0.02\n",
    "\n",
    "docs = Doc.objects.filter(doctopic__topic=bad_top, doctopic__score__gt=thresh)\n",
    "\n",
    "d = docs.order_by('doctopic__score')[2000]\n",
    "ts = Topic.objects.filter(\n",
    "    doctopic__doc=d,run_id=bad_top.run_id,doctopic__score__gt=thresh\n",
    ").order_by('-doctopic__score')\n",
    "print(ts)\n",
    "print(d.content)\n",
    "\n",
    "docs.count()"
   ]
  },
  {
   "cell_type": "code",
   "execution_count": 6,
   "metadata": {},
   "outputs": [
    {
     "data": {
      "text/plain": [
       "<QuerySet [{'query__title': 'Query E_renew', 'query__r_count': 4098, 'n': 2419}, {'query__title': 'Query K_renew', 'query__r_count': 5343, 'n': 723}, {'query__title': 'Query L_renew', 'query__r_count': 9760, 'n': 586}, {'query__title': 'A literature survey on demand-side solutions for climate-change mitigation', 'query__r_count': 5378, 'n': 566}, {'query__title': 'Quantifying the potential for climate change mitigation of consumption-based options', 'query__r_count': 5257, 'n': 456}, {'query__title': 'Status consciousness in energy consumption decisions: A systematic review of literature', 'query__r_count': 3237, 'n': 245}, {'query__title': 'Determinants of low-carbon transport mode adoption: Systematic review of reviews', 'query__r_count': 4638, 'n': 238}, {'query__title': 'Mitigating climate change in food consumption and food waste: A systematic map of behavioural interventions', 'query__r_count': 1045, 'n': 209}, {'query__title': 'Query N_renew', 'query__r_count': 4704, 'n': 163}, {'query__title': 'Exploring SDG links of dietary choice and food waste related mitigation solutions', 'query__r_count': 1962, 'n': 162}, {'query__title': 'Sufficiency and distributional analyses in the demand side of climate change mitigation', 'query__r_count': 1498, 'n': 146}, {'query__title': 'Exploring SDG links of dietary choice and food waste related mitigation solutions-II', 'query__r_count': 1285, 'n': 141}, {'query__title': 'Drivers for Behavioural Change', 'query__r_count': 2011, 'n': 133}, {'query__title': 'Query I_renew', 'query__r_count': 1554, 'n': 101}, {'query__title': 'Query J_renew', 'query__r_count': 941, 'n': 96}, {'query__title': 'Query D_renew', 'query__r_count': 3290, 'n': 89}, {'query__title': 'x3', 'query__r_count': 6091, 'n': 81}, {'query__title': 'x5', 'query__r_count': 5356, 'n': 80}, {'query__title': 'x8', 'query__r_count': 607, 'n': 74}, {'query__title': 'Query C_renew', 'query__r_count': 710, 'n': 60}, '...(remaining elements truncated)...']>"
      ]
     },
     "execution_count": 6,
     "metadata": {},
     "output_type": "execute_result"
    }
   ],
   "source": [
    "docs.filter(query__database=\"WoS\",query__project__in=pids).values('query__title','query__r_count').annotate(\n",
    "    n = Count('pk')\n",
    ").order_by('-n')"
   ]
  },
  {
   "cell_type": "code",
   "execution_count": null,
   "metadata": {},
   "outputs": [],
   "source": []
  }
 ],
 "metadata": {
  "kernelspec": {
   "display_name": "tmv",
   "language": "python",
   "name": "tmv"
  },
  "language_info": {
   "codemirror_mode": {
    "name": "ipython",
    "version": 3
   },
   "file_extension": ".py",
   "mimetype": "text/x-python",
   "name": "python",
   "nbconvert_exporter": "python",
   "pygments_lexer": "ipython3",
   "version": "3.6.7"
  },
  "varInspector": {
   "cols": {
    "lenName": 16,
    "lenType": 16,
    "lenVar": 40
   },
   "kernels_config": {
    "python": {
     "delete_cmd_postfix": "",
     "delete_cmd_prefix": "del ",
     "library": "var_list.py",
     "varRefreshCmd": "print(var_dic_list())"
    },
    "r": {
     "delete_cmd_postfix": ") ",
     "delete_cmd_prefix": "rm(",
     "library": "var_list.r",
     "varRefreshCmd": "cat(var_dic_list()) "
    }
   },
   "types_to_exclude": [
    "module",
    "function",
    "builtin_function_or_method",
    "instance",
    "_Feature"
   ],
   "window_display": false
  }
 },
 "nbformat": 4,
 "nbformat_minor": 2
}
